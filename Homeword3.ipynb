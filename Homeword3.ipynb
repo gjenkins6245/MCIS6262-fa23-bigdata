{
  "nbformat": 4,
  "nbformat_minor": 0,
  "metadata": {
    "colab": {
      "provenance": [],
      "authorship_tag": "ABX9TyPnMw7A6HDwp7oiKovRt6zG",
      "include_colab_link": true
    },
    "kernelspec": {
      "name": "python3",
      "display_name": "Python 3"
    },
    "language_info": {
      "name": "python"
    }
  },
  "cells": [
    {
      "cell_type": "markdown",
      "metadata": {
        "id": "view-in-github",
        "colab_type": "text"
      },
      "source": [
        "<a href=\"https://colab.research.google.com/github/gjenkins6245/MCIS6262_fa23_bigdata/blob/main/Homeword3.ipynb\" target=\"_parent\"><img src=\"https://colab.research.google.com/assets/colab-badge.svg\" alt=\"Open In Colab\"/></a>"
      ]
    },
    {
      "cell_type": "markdown",
      "source": [
        "A car sales attached dataset is to be used. The carSales dataset has 17 columns. First select two columns data, Name and Weight columns. Then sort the dataset from highest to lowest Weight. Only print first 5 rows of data. Use 3 different ways to do that using SPARK. You can use either HDP shell in a box for or Google Colab for coding.\n",
        "\n",
        "1. RDD data structure\n",
        "2. DataFrame data structure without any SQL queries\n",
        "3. DataFrame data structue with SQL queries.\n",
        "\n",
        "Submit a) Code for above 3 ways b) Screenshot of the above 3 code in which Student Name and ID are there 3) Screenshot of the output result for the above 3 ways.\n",
        "Please study all the material of Module 6 to do the assignment."
      ],
      "metadata": {
        "id": "JpGej8-ioUcT"
      }
    },
    {
      "cell_type": "code",
      "execution_count": 101,
      "metadata": {
        "colab": {
          "base_uri": "https://localhost:8080/"
        },
        "id": "QTLH6hk02hsC",
        "outputId": "893d5ded-f672-4986-c8fc-7602be2c2255"
      },
      "outputs": [
        {
          "output_type": "stream",
          "name": "stdout",
          "text": [
            "Requirement already satisfied: pyspark in /usr/local/lib/python3.10/dist-packages (3.5.0)\n",
            "Requirement already satisfied: py4j==0.10.9.7 in /usr/local/lib/python3.10/dist-packages (from pyspark) (0.10.9.7)\n"
          ]
        }
      ],
      "source": [
        "%pip install pyspark"
      ]
    },
    {
      "cell_type": "code",
      "source": [
        "# Name: Glendon Jenkins\n",
        "# Student ID: 216004795\n",
        "# Section: 029\n",
        "# RDD data structure\n",
        "\n",
        "import pyspark\n",
        "from pyspark import SparkContext, SparkConf\n",
        "\n",
        "sc = SparkContext.getOrCreate()\n",
        "rdd = sc.textFile(\"carSalesData.txt\")\n",
        "rdd = rdd.map(lambda x: x.split(\"\\t\"))\n",
        "rdd = rdd.map(lambda x: [x[1], x[7]])\n",
        "rdd = rdd.filter(lambda x: x[1] != \"NULL\")\n",
        "rdd = rdd.sortBy(lambda x: 9999999.99 if x[1]==\"Weight\" else float(x[1]), False)\n",
        "rdd.take(6)"
      ],
      "metadata": {
        "colab": {
          "base_uri": "https://localhost:8080/"
        },
        "id": "rxnPvbeogJiy",
        "outputId": "8cb4357e-a805-4a4e-e02f-870b026e5913"
      },
      "execution_count": 167,
      "outputs": [
        {
          "output_type": "execute_result",
          "data": {
            "text/plain": [
              "[['Name', 'Weight'],\n",
              " ['Road-150 Red, 62', '6803.85'],\n",
              " ['HL Mountain Frame - Silver, 46', '1288.20'],\n",
              " ['HL Mountain Frame - Black, 46', '1288.20'],\n",
              " ['HL Mountain Frame - Silver, 48', '1270.05'],\n",
              " ['HL Mountain Frame - Black, 48', '1270.05']]"
            ]
          },
          "metadata": {},
          "execution_count": 167
        }
      ]
    },
    {
      "cell_type": "code",
      "source": [
        "# Name: Glendon Jenkins\n",
        "# Student ID: 216004795\n",
        "# Section: 029\n",
        "# DataFrame data structure without any SQL queries\n",
        "\n",
        "import pyspark\n",
        "from pyspark.sql import SparkSession\n",
        "\n",
        "df_app = SparkSession.builder.appName('DF_App_NoSQL').getOrCreate()\n",
        "\n",
        "df = df_app.read.csv(\"carSalesData.txt\", sep='\\t', header=True).select(\"Name\",\"Weight\")\n",
        "df = df.filter(df.Weight!=\"NULL\")\n",
        "df = df.withColumn(\"Weight\", df[\"Weight\"].cast('float'))\n",
        "df = df.orderBy(\"Weight\",ascending=False)\n",
        "df.show(5, False)"
      ],
      "metadata": {
        "colab": {
          "base_uri": "https://localhost:8080/"
        },
        "id": "7mjXydfLkNBm",
        "outputId": "455dcfb1-4b69-45f5-d44b-238f0000bcc8"
      },
      "execution_count": 169,
      "outputs": [
        {
          "output_type": "stream",
          "name": "stdout",
          "text": [
            "+------------------------------+-------+\n",
            "|Name                          |Weight |\n",
            "+------------------------------+-------+\n",
            "|Road-150 Red, 62              |6803.85|\n",
            "|HL Mountain Frame - Silver, 46|1288.2 |\n",
            "|HL Mountain Frame - Black, 46 |1288.2 |\n",
            "|HL Mountain Frame - Silver, 48|1270.05|\n",
            "|HL Mountain Frame - Black, 48 |1270.05|\n",
            "+------------------------------+-------+\n",
            "only showing top 5 rows\n",
            "\n"
          ]
        }
      ]
    },
    {
      "cell_type": "code",
      "source": [
        "# Name: Glendon Jenkins\n",
        "# Student ID: 216004795\n",
        "# Section: 029\n",
        "# DataFrame data structue with SQL queries\n",
        "\n",
        "import pyspark\n",
        "from pyspark.sql import SparkSession\n",
        "\n",
        "df_app = SparkSession.builder.appName('DF_App_SQL').getOrCreate()\n",
        "\n",
        "df = df_app.read.csv(\"carSalesData.txt\", sep='\\t', header=True)\n",
        "df.createOrReplaceTempView(\"car_sales\")\n",
        "df = df_app.sql(\"SELECT Name, Weight FROM car_sales WHERE Weight IS NOT NULL ORDER BY CAST(Weight as real) DESC LIMIT 5\")\n",
        "df.show()"
      ],
      "metadata": {
        "colab": {
          "base_uri": "https://localhost:8080/"
        },
        "id": "DhCTPXxpv9m4",
        "outputId": "25b9d613-7629-4cf7-c572-5094943a770c"
      },
      "execution_count": 170,
      "outputs": [
        {
          "output_type": "stream",
          "name": "stdout",
          "text": [
            "+--------------------+-------+\n",
            "|                Name| Weight|\n",
            "+--------------------+-------+\n",
            "|    Road-150 Red, 62|6803.85|\n",
            "|HL Mountain Frame...|1288.20|\n",
            "|HL Mountain Frame...|1288.20|\n",
            "|HL Mountain Frame...|1270.05|\n",
            "|HL Mountain Frame...|1270.05|\n",
            "+--------------------+-------+\n",
            "\n"
          ]
        }
      ]
    }
  ]
}