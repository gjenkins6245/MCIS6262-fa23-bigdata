{
  "nbformat": 4,
  "nbformat_minor": 0,
  "metadata": {
    "colab": {
      "provenance": [],
      "authorship_tag": "ABX9TyNZ7CoM4X0X98Inp2CbNd9+",
      "include_colab_link": true
    },
    "kernelspec": {
      "name": "python3",
      "display_name": "Python 3"
    },
    "language_info": {
      "name": "python"
    }
  },
  "cells": [
    {
      "cell_type": "markdown",
      "metadata": {
        "id": "view-in-github",
        "colab_type": "text"
      },
      "source": [
        "<a href=\"https://colab.research.google.com/github/gjenkins6245/MCIS6262_fa23_bigdata/blob/main/Homeword3.ipynb\" target=\"_parent\"><img src=\"https://colab.research.google.com/assets/colab-badge.svg\" alt=\"Open In Colab\"/></a>"
      ]
    },
    {
      "cell_type": "markdown",
      "source": [
        "A car sales attached dataset is to be used. The carSales dataset has 17 columns. First select two columns data, Name and Weight columns. Then sort the dataset from highest to lowest Weight. Only print first 5 rows of data. Use 3 different ways to do that using SPARK. You can use either HDP shell in a box for or Google Colab for coding.\n",
        "\n",
        "1. RDD data structure\n",
        "2. DataFrame data structure without any SQL queries\n",
        "3. DataFrame data structue with SQL queries.\n",
        "\n",
        "Submit a) Code for above 3 ways b) Screenshot of the above 3 code in which Student Name and ID are there 3) Screenshot of the output result for the above 3 ways.\n",
        "Please study all the material of Module 6 to do the assignment."
      ],
      "metadata": {
        "id": "JpGej8-ioUcT"
      }
    },
    {
      "cell_type": "code",
      "execution_count": 1,
      "metadata": {
        "colab": {
          "base_uri": "https://localhost:8080/"
        },
        "id": "QTLH6hk02hsC",
        "outputId": "0fdb9df6-ed2a-426c-f3fb-cabed7308872"
      },
      "outputs": [
        {
          "output_type": "stream",
          "name": "stdout",
          "text": [
            "Collecting pyspark\n",
            "  Downloading pyspark-3.5.0.tar.gz (316.9 MB)\n",
            "\u001b[2K     \u001b[90m━━━━━━━━━━━━━━━━━━━━━━━━━━━━━━━━━━━━━━━━\u001b[0m \u001b[32m316.9/316.9 MB\u001b[0m \u001b[31m2.1 MB/s\u001b[0m eta \u001b[36m0:00:00\u001b[0m\n",
            "\u001b[?25h  Preparing metadata (setup.py) ... \u001b[?25l\u001b[?25hdone\n",
            "Requirement already satisfied: py4j==0.10.9.7 in /usr/local/lib/python3.10/dist-packages (from pyspark) (0.10.9.7)\n",
            "Building wheels for collected packages: pyspark\n",
            "  Building wheel for pyspark (setup.py) ... \u001b[?25l\u001b[?25hdone\n",
            "  Created wheel for pyspark: filename=pyspark-3.5.0-py2.py3-none-any.whl size=317425344 sha256=e2107437cf424f774459313e46e8e45852df8fe9a51ad998e22a16fc702f3d97\n",
            "  Stored in directory: /root/.cache/pip/wheels/41/4e/10/c2cf2467f71c678cfc8a6b9ac9241e5e44a01940da8fbb17fc\n",
            "Successfully built pyspark\n",
            "Installing collected packages: pyspark\n",
            "Successfully installed pyspark-3.5.0\n"
          ]
        }
      ],
      "source": [
        "%pip install pyspark"
      ]
    },
    {
      "cell_type": "code",
      "source": [
        "# Name: Glendon Jenkins\n",
        "# Student ID: 216004795\n",
        "# Section: 029\n",
        "# RDD data structure\n",
        "\n",
        "import pyspark\n",
        "from pyspark import SparkContext, SparkConf\n",
        "\n",
        "sc = SparkContext.getOrCreate()\n",
        "# Read file\n",
        "rdd = sc.textFile(\"carSalesData.txt\")\n",
        "# Split file on tabs\n",
        "rdd = rdd.map(lambda x: x.split(\"\\t\"))\n",
        "# Get only Name and Weight columns\n",
        "rdd = rdd.map(lambda x: [x[1], x[7]])\n",
        "# Remove records with NULL Weight values\n",
        "rdd = rdd.filter(lambda x: x[1] != \"NULL\")\n",
        "# Sort by Weight converted to float values\n",
        "rdd = rdd.sortBy(lambda x: 9999999.99 if x[1]==\"Weight\" else float(x[1]), False)\n",
        "# Return top 5 records by Weight (Top 6 with header)\n",
        "rdd.take(6)"
      ],
      "metadata": {
        "colab": {
          "base_uri": "https://localhost:8080/"
        },
        "id": "rxnPvbeogJiy",
        "outputId": "5888b8df-7b1c-41b0-f34e-eba2124788bc"
      },
      "execution_count": 2,
      "outputs": [
        {
          "output_type": "execute_result",
          "data": {
            "text/plain": [
              "[['Name', 'Weight'],\n",
              " ['Road-150 Red, 62', '6803.85'],\n",
              " ['HL Mountain Frame - Silver, 46', '1288.20'],\n",
              " ['HL Mountain Frame - Black, 46', '1288.20'],\n",
              " ['HL Mountain Frame - Silver, 48', '1270.05'],\n",
              " ['HL Mountain Frame - Black, 48', '1270.05']]"
            ]
          },
          "metadata": {},
          "execution_count": 2
        }
      ]
    },
    {
      "cell_type": "code",
      "source": [
        "# Name: Glendon Jenkins\n",
        "# Student ID: 216004795\n",
        "# Section: 029\n",
        "# DataFrame data structure without any SQL queries\n",
        "\n",
        "import pyspark\n",
        "from pyspark.sql import SparkSession\n",
        "\n",
        "df_app = SparkSession.builder.appName('DF_App_NoSQL').getOrCreate()\n",
        "\n",
        "# Read file, split it on tabs, and idicate it has a header row\n",
        "df = df_app.read.csv(\"carSalesData.txt\", sep='\\t', header=True)\n",
        "# Get only Name and Weight columns\n",
        "df = df.select(\"Name\",\"Weight\")\n",
        "# Remove records with NULL Weight values\n",
        "df = df.filter(df.Weight != \"NULL\")\n",
        "# Convert Weight to float values\n",
        "df = df.withColumn(\"Weight\", df[\"Weight\"].cast('float'))\n",
        "# Sort by Weight\n",
        "df = df.orderBy(\"Weight\",ascending=False)\n",
        "# Return top 5 records by Weight\n",
        "df.show(5, False)"
      ],
      "metadata": {
        "colab": {
          "base_uri": "https://localhost:8080/"
        },
        "id": "7mjXydfLkNBm",
        "outputId": "77379883-d0b7-4575-d23d-421daf7f5779"
      },
      "execution_count": 12,
      "outputs": [
        {
          "output_type": "stream",
          "name": "stdout",
          "text": [
            "+------------------------------+-------+\n",
            "|Name                          |Weight |\n",
            "+------------------------------+-------+\n",
            "|Road-150 Red, 62              |6803.85|\n",
            "|HL Mountain Frame - Silver, 46|1288.2 |\n",
            "|HL Mountain Frame - Black, 46 |1288.2 |\n",
            "|HL Mountain Frame - Silver, 48|1270.05|\n",
            "|HL Mountain Frame - Black, 48 |1270.05|\n",
            "+------------------------------+-------+\n",
            "only showing top 5 rows\n",
            "\n"
          ]
        }
      ]
    },
    {
      "cell_type": "code",
      "source": [
        "# Name: Glendon Jenkins\n",
        "# Student ID: 216004795\n",
        "# Section: 029\n",
        "# DataFrame data structue with SQL queries\n",
        "\n",
        "import pyspark\n",
        "from pyspark.sql import SparkSession\n",
        "\n",
        "df_app = SparkSession.builder.appName('DF_App_SQL').getOrCreate()\n",
        "\n",
        "# Read file, split it on tabs, and idicate it has a header row\n",
        "df = df_app.read.csv(\"carSalesData.txt\", sep='\\t', header=True)\n",
        "# Create SQL Temp View\n",
        "df.createOrReplaceTempView(\"car_sales\")\n",
        "# Get top 5 records by Weight using SQL\n",
        "df = df_app.sql(\"SELECT Name, Weight FROM car_sales WHERE Weight IS NOT NULL ORDER BY CAST(Weight as real) DESC LIMIT 5\")\n",
        "# Return top 5 records by Weight\n",
        "df.show(20, False)"
      ],
      "metadata": {
        "colab": {
          "base_uri": "https://localhost:8080/"
        },
        "id": "DhCTPXxpv9m4",
        "outputId": "02d9103d-3460-4b6f-ffda-4c9a06df56f8"
      },
      "execution_count": 9,
      "outputs": [
        {
          "output_type": "stream",
          "name": "stdout",
          "text": [
            "+------------------------------+-------+\n",
            "|Name                          |Weight |\n",
            "+------------------------------+-------+\n",
            "|Road-150 Red, 62              |6803.85|\n",
            "|HL Mountain Frame - Silver, 46|1288.20|\n",
            "|HL Mountain Frame - Black, 46 |1288.20|\n",
            "|HL Mountain Frame - Silver, 48|1270.05|\n",
            "|HL Mountain Frame - Black, 48 |1270.05|\n",
            "+------------------------------+-------+\n",
            "\n"
          ]
        }
      ]
    }
  ]
}